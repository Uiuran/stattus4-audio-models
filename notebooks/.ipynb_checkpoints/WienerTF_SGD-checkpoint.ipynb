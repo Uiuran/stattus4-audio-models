{
 "cells": [
  {
   "cell_type": "markdown",
   "metadata": {
    "toc": true
   },
   "source": [
    "<h1>Table of Contents<span class=\"tocSkip\"></span></h1>\n",
    "<div class=\"toc\"><ul class=\"toc-item\"></ul></div>"
   ]
  },
  {
   "cell_type": "code",
   "execution_count": 0,
   "metadata": {
    "colab": {},
    "colab_type": "code",
    "id": "OeZBXOfpaI2C"
   },
   "outputs": [],
   "source": [
    "!mkdir datawav \n",
    "!mkdir dataref"
   ]
  },
  {
   "cell_type": "code",
   "execution_count": 4,
   "metadata": {
    "colab": {},
    "colab_type": "code",
    "id": "4pDuf8hb4_C8"
   },
   "outputs": [
    {
     "ename": "ImportError",
     "evalue": "No module named librosa",
     "output_type": "error",
     "traceback": [
      "\u001b[0;31m---------------------------------------------------------------------------\u001b[0m",
      "\u001b[0;31mImportError\u001b[0m                               Traceback (most recent call last)",
      "\u001b[0;32m<ipython-input-4-5d9e61ef0450>\u001b[0m in \u001b[0;36m<module>\u001b[0;34m()\u001b[0m\n\u001b[1;32m     12\u001b[0m \u001b[0mcorrelate\u001b[0m \u001b[0;34m=\u001b[0m \u001b[0msignal\u001b[0m\u001b[0;34m.\u001b[0m\u001b[0mcorrelate\u001b[0m\u001b[0;34m\u001b[0m\u001b[0m\n\u001b[1;32m     13\u001b[0m \u001b[0;32mimport\u001b[0m \u001b[0mos\u001b[0m\u001b[0;34m\u001b[0m\u001b[0m\n\u001b[0;32m---> 14\u001b[0;31m \u001b[0;32mimport\u001b[0m \u001b[0mlibrosa\u001b[0m\u001b[0;34m\u001b[0m\u001b[0m\n\u001b[0m\u001b[1;32m     15\u001b[0m \u001b[0;34m\u001b[0m\u001b[0m\n\u001b[1;32m     16\u001b[0m \u001b[0;31m# Tensorboard display\u001b[0m\u001b[0;34m\u001b[0m\u001b[0;34m\u001b[0m\u001b[0m\n",
      "\u001b[0;31mImportError\u001b[0m: No module named librosa"
     ]
    }
   ],
   "source": [
    "#import tensorflow as tf\n",
    "import numpy as np\n",
    "import scipy as scp\n",
    "from scipy import signal, linalg\n",
    "from numpy import asarray, array, ravel, repeat, prod, mean, where, ones\n",
    "#!pip install scikits.audiolab\n",
    "#!pip install --upgrade-strategy=only-if-needed git+https://github.com/Uiuran/BregmanToolkit\n",
    "#!pip install scikit-image\n",
    "#import scikits.audiolab as audio\n",
    "import matplotlib.pyplot as plt\n",
    "from tensorflow.python.client import timeline\n",
    "correlate = signal.correlate\n",
    "import os\n",
    "import librosa\n",
    "\n",
    "# Tensorboard display\n",
    "from IPython.display import clear_output, Image, display, HTML"
   ]
  },
  {
   "cell_type": "code",
   "execution_count": 2,
   "metadata": {
    "code_folding": [
     0
    ],
    "colab": {},
    "colab_type": "code",
    "id": "i0FC1l-Ss9BK"
   },
   "outputs": [],
   "source": [
    "def freeze_session(session, keep_var_names=None, output_names=None, clear_devices=True):\n",
    "    \"\"\"\n",
    "    Freezes the state of a session into a pruned computation graph.\n",
    "\n",
    "    Creates a new computation graph where variable nodes are replaced by\n",
    "    constants taking their current value in the session. The new graph will be\n",
    "    pruned so subgraphs that are not necessary to compute the requested\n",
    "    outputs are removed.    \n",
    "    \n",
    "    Parameters:\n",
    "    \n",
    "    - session: The TensorFlow session to be frozen.\n",
    "    \n",
    "    Default Keyword Parameters\n",
    "    \n",
    "    - keep_var_names: A list of variable names that should not be frozen. Defaults None.     \n",
    "    - output_names: Names of the relevant graph outputs/operation/tensor to be written. Defaults None.\n",
    "    - clear_devices: Remove the device directives from the graph for better portability. Defaults True.\n",
    "    \n",
    "    return The frozen graph definition.\n",
    "    \"\"\"    \n",
    "    graph = session.graph\n",
    "    with graph.as_default():\n",
    "        freeze_var_names = list(set(v.op.name for v in tf.global_variables()).difference(keep_var_names or []))\n",
    "        output_names = output_names or []\n",
    "        output_names += [v.op.name for v in tf.global_variables()]\n",
    "        # Graph -> GraphDef ProtoBuf\n",
    "        input_graph_def = graph.as_graph_def()\n",
    "        if clear_devices:\n",
    "            for node in input_graph_def.node:\n",
    "                node.device = \"\"\n",
    "        frozen_graph = convert_variables_to_constants(session, input_graph_def,\n",
    "                                                      output_names, freeze_var_names)\n",
    "        return frozen_graph\n",
    "\n",
    "def wiener(im, mysize=None, noise=None):\n",
    "    \"\"\"\n",
    "    Perform a Wiener filter on an N-dimensional array.\n",
    "    Apply a Wiener filter to the N-dimensional array `im`.\n",
    "    Parameters\n",
    "    ----------\n",
    "    im : ndarray\n",
    "        An N-dimensional array.\n",
    "    mysize : int or array_like, optional\n",
    "        A scalar or an N-length list giving the size of the Wiener filter\n",
    "        window in each dimension.  Elements of mysize should be odd.\n",
    "        If mysize is a scalar, then this scalar is used as the size\n",
    "        in each dimension.\n",
    "    noise : float, optional\n",
    "        The noise-power to use. If None, then noise is estimated as the\n",
    "        average of the local variance of the input.\n",
    "    Returns\n",
    "    -------\n",
    "    out : ndarray\n",
    "        Wiener filtered result with the same shape as `im`.\n",
    "    \"\"\"      \n",
    "    \n",
    "      \n",
    "    \n",
    "    im = asarray(im)\n",
    "    if mysize is None:\n",
    "        mysize = [3] * im.ndim\n",
    "    mysize = asarray(mysize)\n",
    "    if mysize.shape == ():\n",
    "        mysize = repeat(mysize.item(), im.ndim)\n",
    "\n",
    "    # Estimate the local mean\n",
    "    lMean = correlate(im, ones(mysize), 'same') / prod(mysize, axis=0)\n",
    "\n",
    "    # Estimate the local variance\n",
    "    lVar = (correlate(im ** 2, ones(mysize), 'same') /\n",
    "            prod(mysize, axis=0) - lMean ** 2+1e-8)\n",
    "\n",
    "    # Estimate the noise power if needed.\n",
    "    if noise is None:\n",
    "        noise = mean(ravel(lVar), axis=0)\n",
    "\n",
    "    res = (im - lMean)\n",
    "    res *= (1 - noise / lVar)\n",
    "    res += lMean\n",
    "    out = where(lVar < noise, lMean, res)    \n",
    "    subtract = im-out\n",
    "    return out,subtract"
   ]
  },
  {
   "cell_type": "code",
   "execution_count": 3,
   "metadata": {
    "code_folding": [],
    "colab": {},
    "colab_type": "code",
    "id": "bzVs7wdyEP6A"
   },
   "outputs": [],
   "source": [
    "# funções auxiliares\n",
    "def strip_consts(graph_def, max_const_size=32):\n",
    "    \"\"\"Strip large constant values from graph_def.\"\"\"\n",
    "    strip_def = tf.GraphDef()\n",
    "    for n0 in graph_def.node:\n",
    "        n = strip_def.node.add() \n",
    "        n.MergeFrom(n0)\n",
    "        if n.op == 'Const':\n",
    "            tensor = n.attr['value'].tensor\n",
    "            size = len(tensor.tensor_content)\n",
    "            if size > max_const_size:\n",
    "                tensor.tensor_content = tf.compat.as_bytes(\"<stripped %d bytes>\"%size)\n",
    "    return strip_def\n",
    "  \n",
    "def rename_nodes(graph_def, rename_func):\n",
    "    res_def = tf.GraphDef()\n",
    "    for n0 in graph_def.node:\n",
    "        n = res_def.node.add() \n",
    "        n.MergeFrom(n0)\n",
    "        n.name = rename_func(n.name)\n",
    "        for i, s in enumerate(n.input):\n",
    "            n.input[i] = rename_func(s) if s[0]!='^' else '^'+rename_func(s[1:])\n",
    "    return res_def\n",
    "  \n",
    "# Função que usa HTML e javascript para exibir tensorboar no notebook e web\n",
    "def show_graph(graph_def, max_const_size=32):\n",
    "    \"\"\"Visualize TensorFlow graph.\"\"\"\n",
    "    if hasattr(graph_def, 'as_graph_def'):\n",
    "        graph_def = graph_def.as_graph_def()\n",
    "    strip_def = strip_consts(graph_def, max_const_size=max_const_size)\n",
    "    code = \"\"\"\n",
    "        <script>\n",
    "          function load() {{\n",
    "            document.getElementById(\"{id}\").pbtxt = {data};\n",
    "          }}\n",
    "        </script>\n",
    "        <link rel=\"import\" href=\"https://tensorboard.appspot.com/tf-graph-basic.build.html\" onload=load()>\n",
    "        <div style=\"height:600px\">\n",
    "          <tf-graph-basic id=\"{id}\"></tf-graph-basic>\n",
    "        </div>\n",
    "    \"\"\".format(data=repr(str(strip_def)), id='graph'+str(np.random.rand()))\n",
    "  \n",
    "    iframe = \"\"\"\n",
    "        <iframe seamless style=\"width:800px;height:620px;border:0\" srcdoc=\"{}\"></iframe>\n",
    "    \"\"\".format(code.replace('\"', '&quot;'))\n",
    "    display(HTML(iframe))"
   ]
  },
  {
   "cell_type": "code",
   "execution_count": 0,
   "metadata": {
    "colab": {},
    "colab_type": "code",
    "id": "DRrwcMfXdk18"
   },
   "outputs": [],
   "source": [
    "files = [f for f in os.listdir('/content/datawav')]\n",
    "refs = [f for f in os.listdir('/content/dataref')]\n",
    "data,fs,enc = audio.wavread('/content/dataref/'+refs[0])\n",
    "l = np.size(data)"
   ]
  },
  {
   "cell_type": "code",
   "execution_count": 0,
   "metadata": {
    "colab": {
     "base_uri": "https://localhost:8080/",
     "height": 34
    },
    "colab_type": "code",
    "id": "vjDFKp7KcKZ8",
    "outputId": "af73066d-aa09-4e27-e3d9-3294b2288465"
   },
   "outputs": [
    {
     "name": "stdout",
     "output_type": "stream",
     "text": [
      "['0EAFC8DC-9EC3-42CE-A969-CE4880A0123E.wav']\n"
     ]
    }
   ],
   "source": [
    "tensor_data = np.ndarray(shape=(1,l,1))\n",
    "tensor_ref = np.ndarray(shape=(5,l,1))\n",
    "\n",
    "for r in range(len(refs)):  \n",
    "  \n",
    "  data1,_,_ = audio.wavread('/content/dataref/'+refs[r])\n",
    "  tensor_ref[r,:,0] = data1.copy()\n",
    "  \n",
    "for f in range(len(files[1:2])):    \n",
    "  data,_,_ = audio.wavread('/content/datawav/'+files[f])\n",
    "  tensor_data[f,:,0] = data.copy()\n",
    "\n",
    "print(files[1:2])"
   ]
  },
  {
   "cell_type": "code",
   "execution_count": 0,
   "metadata": {
    "colab": {},
    "colab_type": "code",
    "id": "bwEqrUBp6qMa"
   },
   "outputs": [],
   "source": [
    "\n",
    "# Comp. Graph \n",
    "graph = tf.Graph()\n",
    "with graph.as_default():\n",
    "  signal_in = tf.placeholder(tf.float32,(None,l,1), name='signal_in')  \n",
    "  filter = tf.get_variable('filter', shape=[8000,1,1],initializer=tf.random_normal_initializer(), dtype=tf.float32)\n",
    "  w = tf.get_variable('w', shape=[5,l],initializer=tf.random_normal_initializer(), dtype=tf.float32)\n",
    "  signal_ref = tf.placeholder(tf.float32,(None,l,1), name='signal_ref')\n",
    "  # 1D Convolve  which internally uses 2D reshaped https://www.tensorflow.org/api_docs/python/tf/nn/conv1d\n",
    "  signal_out = tf.nn.conv1d(signal_in,filter,1,'SAME', name='signal_out')  \n",
    "  loss = tf.reduce_sum(tf.math.squared_difference(signal_out,tf.tensordot(w,signal_ref,[[0,1],[0,1]], name='ref_contraction'), name = 'squared'), name = 'loss')\n",
    "  minimize_op = tf.train.AdamOptimizer(learning_rate=0.005).minimize(-loss)\n",
    "  # Print operations for the graph built\n",
    "\n",
    "  for op in graph.get_operations():\n",
    "    print(op.name)\n",
    "  graph_def = graph.as_graph_def()\n",
    "  show_graph(graph_def)\n"
   ]
  },
  {
   "cell_type": "code",
   "execution_count": 0,
   "metadata": {
    "colab": {},
    "colab_type": "code",
    "id": "Be3jyCNtvbpL"
   },
   "outputs": [],
   "source": [
    "# Create session\n",
    "\n",
    "with graph.as_default():\n",
    "  session = tf.Session()\n",
    "\n",
    "  feed_dict = {\n",
    "      signal_in: tensor_data,\n",
    "      signal_ref:tensor_ref   \n",
    "  }\n",
    "  options = tf.RunOptions(trace_level=tf.RunOptions.FULL_TRACE)\n",
    "  run_metadata = tf.RunMetadata()\n",
    "  session.run(tf.global_variables_initializer())\n",
    "  lossval = np.zeros(140)\n",
    "  # Perform  gradient descent steps    \n",
    "  for step in range(140):\n",
    "    \n",
    "    loss_value = session.run(loss, feed_dict)    \n",
    "    lossval[step] = loss_value\n",
    "\n",
    "    if step % 1 == 0:\n",
    "      print(\"Step:\", step, \" Loss:\", loss_value)\n",
    "      if step % 5 == 0 and step != 0:\n",
    "        loss_diff = np.diff(lossval[np.nonzero(lossval)])\n",
    "        print(\"Mean Loss Growth \",np.mean(loss_diff) )\n",
    "    \n",
    "      \n",
    "    session.run(minimize_op,\n",
    "                feed_dict = feed_dict,\n",
    "                options=options,\n",
    "                run_metadata=run_metadata)    \n",
    "    \n",
    "    \n",
    "    # Profiling\n",
    "    #fetched_timeline = timeline.Timeline(run_metadata.step_stats)\n",
    "    #chrome_trace = fetched_timeline.generate_chrome_trace_format()\n",
    "    #with open('timeline_0_0_step_%d.json' % step, 'w') as f:\n",
    "      #f.write(chrome_trace)\n",
    "\n",
    "# Plot\n",
    "\n",
    "  signal_out_value = session.run(graph.get_tensor_by_name('signal_out/Squeeze:0'), feed_dict)  \n",
    "  filter_value = filter.eval(session=session)\n",
    "  print('Wiener filter ')\n",
    "  plt.figure()\n",
    "  plt.plot(filter_value[:,0,0])    \n",
    "  print('output_filter_SGD')\n",
    "  plt.figure()\n",
    "  plt.plot(signal_out_value[0,:,0])  \n",
    "  print('input_signal')  \n",
    "  plt.figure()\n",
    "  plt.plot(tensor_data[0,:,0])\n",
    "\n",
    "  audio.wavwrite( signal_out_value[0,:,0]/(np.std(signal_out_value[0,:,0],ddof=1.0)+1e-10),'/content/max_0_12072019.wav', fs=fs, enc=enc)\n",
    "  \n",
    "  frozen_graph = freeze_session(session, output_names= None)\n",
    "  tf.train.write_graph(frozen_graph, \"model\", \"./wiener.pb\", as_text=False)   "
   ]
  },
  {
   "cell_type": "code",
   "execution_count": 0,
   "metadata": {
    "colab": {
     "base_uri": "https://localhost:8080/",
     "height": 71
    },
    "colab_type": "code",
    "id": "kYONWWght-y-",
    "outputId": "8ae2c0b4-9f9c-4bbe-b397-238df883af94"
   },
   "outputs": [
    {
     "name": "stdout",
     "output_type": "stream",
     "text": [
      "['E3774329-5939-4585-BA17-88CA08330C5E.wav']\n"
     ]
    },
    {
     "data": {
      "text/plain": [
       "\"\\n  filter_value = filter.eval(session=session)\\n  print('Wiener filter ')\\n  plt.figure()\\n  plt.plot(filter_value[0,:,0])    \\n  print('output_filter_SGD')\\n  plt.figure()\\n  plt.plot(signal_out_value[0,:,0])  \\n  print('input_signal')  \\n  plt.figure()\\n  plt.plot(tensor_data[0,:,0])\\n\""
      ]
     },
     "execution_count": 60,
     "metadata": {
      "tags": []
     },
     "output_type": "execute_result"
    }
   ],
   "source": [
    "#audio.wavwrite(signal_out_value[0,:,0],'/content/noiseout8000.wav', fs=fs, enc=enc)\n",
    "audio.wavwrite( signal_out_value[0,:,0]-mu ,'/content/maximin.wav', fs=fs, enc=enc)\n",
    "print(files[1:2])\n",
    "'''\n",
    "  filter_value = filter.eval(session=session)\n",
    "  print('Wiener filter ')\n",
    "  plt.figure()\n",
    "  plt.plot(filter_value[0,:,0])    \n",
    "  print('output_filter_SGD')\n",
    "  plt.figure()\n",
    "  plt.plot(signal_out_value[0,:,0])  \n",
    "  print('input_signal')  \n",
    "  plt.figure()\n",
    "  plt.plot(tensor_data[0,:,0])\n",
    "'''"
   ]
  },
  {
   "cell_type": "code",
   "execution_count": 0,
   "metadata": {
    "colab": {},
    "colab_type": "code",
    "id": "mZrubsYSy84O"
   },
   "outputs": [],
   "source": [
    "#audio.wavwrite( signal_out_value[0,:,0]/(np.std(signal_out_value[0,:,0],ddof=1.0)+1e-10),'/content/max_0_12072019.wav', fs=fs, enc=enc)\n",
    "audio.wavwrite( 10.0*tensor_data[0,:,0],'/content/0EAFC8DC-9EC3-42CE-A969-CE4880A0123E.wav', fs=fs, enc=enc)"
   ]
  },
  {
   "cell_type": "code",
   "execution_count": 0,
   "metadata": {
    "colab": {},
    "colab_type": "code",
    "id": "DmnaE89YYBPL"
   },
   "outputs": [],
   "source": [
    "measure,fs,enc = audio.wavread('/content/birds.wav')\n",
    "airnoise,fs1,enc = audio.wavread('/content/ID 1.477704.wav')"
   ]
  },
  {
   "cell_type": "code",
   "execution_count": 0,
   "metadata": {
    "colab": {},
    "colab_type": "code",
    "id": "f0JqGa1H4fSx"
   },
   "outputs": [],
   "source": [
    "def downsampling(data,num):\n",
    "  '''\n",
    "   Downsampling por num(int) feito como se fosse no C\n",
    "  '''\n",
    "  d = np.copy(data)\n",
    "  j=0\n",
    "  for i in range(len(d)):\n",
    "\n",
    "    if i%int(num) == 0:\n",
    "      j +=1\n",
    "    else:\n",
    "      d[i] = 0.0\n",
    "  datadown = np.zeros(j)\n",
    "  j=0\n",
    "  for i in range(len(d)):\n",
    "  \n",
    "    if d[i] != 0.0: \n",
    "      #print(d[i])\n",
    "      datadown[j] = d[i]\n",
    "      j += 1  \n",
    "\n",
    "  return datadown\n",
    "\n",
    "def amostragem(data, fs, plot = False):\n",
    "  '''\n",
    "   Amostragem de downsampling de uma serie temporal segundo Nyquist-Shannon. Alem disso o numero maximo\n",
    "   de frequencias com o spectro calculado por ciclo deve ser igual ao numero de pontos N/2 (principio de incerteza).\n",
    "\n",
    "   \n",
    "   argumentos:\n",
    "   \n",
    "   - data: serie temporal\n",
    "   - fs: frequência de amostragem do encode original\n",
    "   - plot: opcional, plota o espectrograma com parametros padrões para obter máxima frequência maior que a largura de banda.\n",
    "  '''\n",
    " \n",
    "  f,t,Sxx = signal.spectrogram(data,fs,nfft=fs/4,nperseg=fs/5,noverlap=fs/10,scaling='spectrum',mode='magnitude')\n",
    "  freq = np.array([i for i in zip(t,Sxx.T) if np.shape(f[i[1]>np.std(i[1])])[0] != 0])\n",
    "  \n",
    "  if plot:\n",
    "    plt.figure()\n",
    "    plt.pcolormesh(t, f, np.log(Sxx+1e-13) )\n",
    "    plt.ylabel('Frequency [Hz]')\n",
    "    plt.xlabel('Time [sec]')\n",
    "    plt.show()\n",
    "\n",
    "  return [[ i[0], np.ceil(np.float(fs)/(2.0*np.max(f[i[1]>np.std(i[1])]) )) ] for i in freq]"
   ]
  },
  {
   "cell_type": "code",
   "execution_count": 0,
   "metadata": {
    "colab": {},
    "colab_type": "code",
    "id": "EqTF5foFiLug"
   },
   "outputs": [],
   "source": [
    "####\n",
    "## Spectrogram + Downsampling according to Nyquist-Shannon.\n",
    "#\n",
    "\n",
    "sampa = np.min(np.array(amostragem(np.array(measure)[:,0],fs, plot=True))[:,1])\n",
    "sampb = np.min(np.array(amostragem(np.array(measure)[:,1],fs1, plot=True))[:,1])\n",
    "fsa = (fs/int(sampa))\n",
    "fsb=(fs1/int(sampb))\n",
    "\n",
    "a = downsampling(np.array(measure)[:,0],sampa )\n",
    "b = downsampling(np.array(measure)[:,1],sampb )\n",
    "\n",
    "f,t,Sxx = signal.spectrogram(a,fsa,nfft=fsa/4,nperseg=fsa/5,noverlap=fsa/10,scaling='spectrum',mode='magnitude')\n",
    "plt.figure()\n",
    "plt.pcolormesh(t, f, np.log(Sxx+1e-13) )\n",
    "plt.ylabel('Frequency [Hz]')\n",
    "plt.xlabel('Time [sec]')\n",
    "\n",
    "f,t,Sxx = signal.spectrogram(b,fsb,nfft=fsb/4,nperseg=fsb/5,noverlap=fsb/10,scaling='spectrum',mode='magnitude')\n",
    "plt.figure()\n",
    "plt.pcolormesh(t, f, np.log(Sxx+1e-13))\n",
    "plt.ylabel('Frequency [Hz]')\n",
    "plt.xlabel('Time [sec]')\n",
    "\n",
    "\n",
    "plt.figure()\n",
    "plt.plot(measure,label='original')\n",
    "plt.figure()\n",
    "plt.plot(a,label='downsampled')\n",
    "plt.figure()\n",
    "plt.plot(airnoise,label='original')\n",
    "plt.figure()\n",
    "plt.plot(b,label='downsampled')\n",
    "\n",
    "audio.wavwrite(a,'/content/birdsdown.wav',fs=fsa,enc=enc)\n",
    "#audio.wavwrite(b,'/content/b.wav',fs=fsb,enc=enc)"
   ]
  }
 ],
 "metadata": {
  "colab": {
   "collapsed_sections": [],
   "name": "WienerTF_SGD.ipynb",
   "provenance": [],
   "version": "0.3.2"
  },
  "kernelspec": {
   "display_name": "Python 2",
   "language": "python",
   "name": "python2"
  },
  "language_info": {
   "codemirror_mode": {
    "name": "ipython",
    "version": 2
   },
   "file_extension": ".py",
   "mimetype": "text/x-python",
   "name": "python",
   "nbconvert_exporter": "python",
   "pygments_lexer": "ipython2",
   "version": "2.7.16"
  },
  "toc": {
   "base_numbering": 1,
   "nav_menu": {},
   "number_sections": true,
   "sideBar": true,
   "skip_h1_title": true,
   "title_cell": "Table of Contents",
   "title_sidebar": "Contents",
   "toc_cell": true,
   "toc_position": {
    "height": "calc(100% - 180px)",
    "left": "10px",
    "top": "150px",
    "width": "185.434px"
   },
   "toc_section_display": true,
   "toc_window_display": true
  }
 },
 "nbformat": 4,
 "nbformat_minor": 1
}
