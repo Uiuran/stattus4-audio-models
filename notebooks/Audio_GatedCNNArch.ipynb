{
 "cells": [
  {
   "cell_type": "markdown",
   "metadata": {
    "toc": true
   },
   "source": [
    "<h1>Table of Contents<span class=\"tocSkip\"></span></h1>\n",
    "<div class=\"toc\"><ul class=\"toc-item\"><li><span><a href=\"#Gated-CNN\" data-toc-modified-id=\"Gated-CNN-1\"><span class=\"toc-item-num\">1&nbsp;&nbsp;</span>Gated CNN</a></span><ul class=\"toc-item\"><li><span><a href=\"#GCNN-2D\" data-toc-modified-id=\"GCNN-2D-1.1\"><span class=\"toc-item-num\">1.1&nbsp;&nbsp;</span>GCNN 2D</a></span></li></ul></li></ul></div>"
   ]
  },
  {
   "cell_type": "code",
   "execution_count": 1,
   "metadata": {
    "code_folding": []
   },
   "outputs": [
    {
     "ename": "SyntaxError",
     "evalue": "invalid syntax (hidrometer_consumption.py, line 23)",
     "output_type": "error",
     "traceback": [
      "\u001b[0;36m  File \u001b[0;32m\"/home/penalvad/miniconda3/envs/scicomptf1_37/lib/python2.7/site-packages/src/hidrometer_consumption.py\"\u001b[0;36m, line \u001b[0;32m23\u001b[0m\n\u001b[0;31m    !pip install --upgrade-strategy=only-if-needed git+https://github.com/Uiuran/BregmanToolkit\u001b[0m\n\u001b[0m    ^\u001b[0m\n\u001b[0;31mSyntaxError\u001b[0m\u001b[0;31m:\u001b[0m invalid syntax\n"
     ]
    }
   ],
   "source": [
    "# IMPORTS\n",
    "from src.model import *"
   ]
  },
  {
   "cell_type": "code",
   "execution_count": null,
   "metadata": {},
   "outputs": [],
   "source": [
    "dataload = Sass('/home/penalvad/stattus4/dnn_test_data/', num_samples=7, number_of_batches=1, split_tax=.9, freq_size=600, time_size=80, same_data_validation=True)\n",
    "dataload_2 = Sass('/home/penalvad/stattus4/test/', num_samples=5, number_of_batches=1, split_tax=.9, freq_size=480, time_size=600, same_data_validation=True)"
   ]
  },
  {
   "cell_type": "code",
   "execution_count": null,
   "metadata": {},
   "outputs": [],
   "source": [
    "dtrain = dataload.training()\n",
    "dtrain_2 = dataload_2.training()"
   ]
  },
  {
   "cell_type": "code",
   "execution_count": null,
   "metadata": {},
   "outputs": [],
   "source": [
    "data_train = np.ndarray( shape=(12,600,80,1) )\n",
    "data_test = np.ndarray( shape=(8,600,50) )\n",
    "for i in range(6):\n",
    "\n",
    "    data_train[2*i,:,:,0] = dtrain[i][0][2]\n",
    "    data_train[2*i+1,:,:,0] = dtrain[i][1][2]"
   ]
  },
  {
   "cell_type": "markdown",
   "metadata": {},
   "source": [
    "# Architecture Basics\n",
    "##  Gated CNN\n",
    "Gated CNN is a doubled CNN in whom one of the convoluted signals does the role of opening/closing the network, giving an **Attention Mechanism** to the convolution, for being activated by a sigmoid.\\n\",\n",
    "It gives non-vanishing gradient, since the multiplication rule for the derivative applies, also, applies gradient to the linear convoluted part."
   ]
  },
  {
   "cell_type": "markdown",
   "metadata": {},
   "source": [
    "### GCNN 2D\n",
    "This unit uses sigmoid function in all frame pixels and do element-wise multiplication. Use it for images or time-series TF Features frame. The standard convolution mode is Valid. The output size of the convolution is given by:\n",
    "\n",
    "Padding Valid\n",
    "\\\\begin{align}\n",
    "\\dimemsion output size = \\\\ceil{ \\\\frac{dim size - (kernel dim size - 1)*dilation rate}{stride} }\n",
    "\\\\end{align}\n",
    "\n",
    "Where dilation rate is how may pixel are each filter spaced from each other, when dilation rate >= 1 then stride = 1 (since if you stride will be losing information from the data)."
   ]
  },
  {
   "cell_type": "code",
   "execution_count": null,
   "metadata": {
    "code_folding": []
   },
   "outputs": [],
   "source": [
    "#Cascading deepness networks mem size\n",
    "\n",
    "def channeling_rule(channelin, filterlist):\n",
    "  channellist = [channelin]\n",
    "  for filter in filterlist:\n",
    "    channellist.append(channellist[-1] + filter + 3)\n",
    "\n",
    "  return channellist"
   ]
  },
  {
   "cell_type": "code",
   "execution_count": null,
   "metadata": {
    "code_folding": [
     0
    ]
   },
   "outputs": [],
   "source": [
    "# Label Vector Feed\n",
    "# dtrain[0][0][1]\n",
    "ltrain = []\n",
    "ltest = []\n",
    "\n",
    "for i in range(6):\n",
    "    ltrain.append([0,1])\n",
    "    ltrain.append([1,0])\n",
    "\n",
    "for i in range(4):\n",
    "    ltest.append([0,1])\n",
    "    ltest.append([1,0])"
   ]
  },
  {
   "cell_type": "code",
   "execution_count": null,
   "metadata": {
    "code_folding": [
     0
    ]
   },
   "outputs": [],
   "source": [
    "# Define Filter-Bank of the CNN \n",
    "filterlist = []\n",
    "filterlista = [3,3,3,3]\n",
    "filterlist.append(filterlista)\n",
    "a = calculatefilter(600, filterlista)\n",
    "\n",
    "# Max pooling\n",
    "\n",
    "filterlistb = [5,5,5,5]\n",
    "filterlist.append(filterlistb)\n",
    "b = calculatefilter(a/2.0, filterlistb)\n",
    "\n",
    "# Max pooling\n",
    "\n",
    "filterlistc = [7,7,7,7]\n",
    "filterlist.append(filterlistc)\n",
    "c = calculatefilter(b/2., filterlistc)\n",
    "\n",
    "# Max pooling \n",
    "\n",
    "filterlistd = [5,5,5,5]\n",
    "filterlist.append(filterlistd)\n",
    "d = calculatefilter(c/2.0, filterlistd)\n",
    "\n",
    "\n",
    "# Max pooling \n",
    "\n",
    "filterliste = [5,4,4]\n",
    "filterlist.append(filterliste)\n",
    "e = calculatefilter(d/2.0, filterliste)\n",
    "print(e)"
   ]
  },
  {
   "cell_type": "code",
   "execution_count": null,
   "metadata": {
    "code_folding": [],
    "scrolled": false
   },
   "outputs": [],
   "source": [
    "#Model Building\n",
    "\n",
    "# Input Frames\n",
    "\n",
    "#Frequency\n",
    "freq=600*np.ones(20)\n",
    "\n",
    "#Time \n",
    "time = np.arange(0,80,4) + 4\n",
    "\n",
    "\n",
    "buildgraph = Builder(dtype=tf.float32, datasize=(freq,time), num_input = 20, channels=1)\n",
    "buildgraph.get_directives('gcnn2d')\n",
    "buildgraph.get_directives('softmax')\n",
    "#buildgraph.set_archname('frame')\n",
    "buildgraph.get_directives('reducemean')\n",
    "buildgraph.get_directives('losscrossentropy')\n",
    "pooling = [2,2,2,2]\n",
    "\n",
    "for i in range(20):\n",
    "\n",
    "    buildgraph.config_block_name(deepness=len(filterlist[0]),numblock=i)\n",
    "    for j in np.arange(len(filterlist)):\n",
    "\n",
    "        cout = 64 + j*20\n",
    "        if j != 0:\n",
    "            buildgraph.config_block_name(deepness=len(filterlist[j]),numblock=i)\n",
    "\n",
    "        for z in np.arange(len(filterlist[j])):\n",
    "            \n",
    "            fw = (np.floor((np.arange(0,80,4) + 4)*0.03)+1)\n",
    "\n",
    "            if z == 0 and j == 0:\n",
    "                buildgraph.build_graph_module('cnn2d', channels_out = 64, filter_size=(filterlist[j][0], np.int(fw[19-i])), isinput=True, lastnamescope=True, verbose=False)\n",
    "\n",
    "            # z:= layer onde esta o gate dentro de um block de cnn, entre maxpoolings.\n",
    "            # j:= número do block de cnn, onde esta o layer z de gate\n",
    "            if z ==  (len(filterlist[j])-1) and (j == 4):\n",
    "                buildgraph.build_graph_module('gcnn2d', channels_out = cout, filter_size=(filterlist[j][z], np.int(fw[19-i])), isinput=False, lastnamescope=True, verbose=False)\n",
    "            else:\n",
    "                buildgraph.build_graph_module('cnn2d', channels_out = cout, filter_size=(filterlist[j][z], np.int(fw[19-i])), isinput=False, lastnamescope=True, verbose=False)\n",
    " \n",
    "        if j < len(filterlist) - 1:\n",
    "            buildgraph.config_block_name(deepness=-1,numblock=i,pool=j)                \n",
    "            buildgraph.build_graph_module('maxpooling2d', poolsize = (pooling[j],1), isinput=False, lastnamescope=True, verbose=False)\n",
    "  \n",
    "    buildgraph.config_block_name(deepness=0,numblock=i)\n",
    "    buildgraph.build_graph_module('softmax', num_labels=2, isinput=False, lastnamescope=True)\n",
    "\n",
    "buildgraph.config_block_name(deepness=0,numblock=0)\n",
    "buildgraph.build_graph_module('reducemean', isinput=False, lastnamescope=True)\n",
    "buildgraph.config_block_name(deepness=0,numblock=0)\n",
    "buildgraph.build_graph_module('losscrossentropy', num_labels = 2, isinput=False, lastnamescope=True, show_cgraph=False)"
   ]
  },
  {
   "cell_type": "code",
   "execution_count": null,
   "metadata": {},
   "outputs": [],
   "source": [
    "print_display_cgraph(buildgraph.graph)"
   ]
  },
  {
   "cell_type": "code",
   "execution_count": null,
   "metadata": {},
   "outputs": [],
   "source": [
    "time"
   ]
  },
  {
   "cell_type": "code",
   "execution_count": null,
   "metadata": {},
   "outputs": [],
   "source": [
    "feed_dict = {}\n",
    "for i in range(20):    \n",
    "    feed_dict[buildgraph.signal_in[i]] = data_train[:12, :, :time[19-i], :]\n",
    "    feed_dict[buildgraph.label_tensor] = ltrain[:12]\n",
    "    feed_dict[buildgraph.learning_rate] = 0.00001\n",
    "output = buildgraph.run_cgraph(feed_dict, op_to_run =buildgraph.namescopes['reducemean'][-1].name, number_of_runs = 250, mode = 'minimize', ckpt_dir_name='../ckpt/model', new_session=True, output_log = True, stop=0.4, adaptative_lr=True, verbose=True)\n"
   ]
  },
  {
   "cell_type": "code",
   "execution_count": null,
   "metadata": {},
   "outputs": [],
   "source": [
    "output[180]"
   ]
  },
  {
   "cell_type": "code",
   "execution_count": null,
   "metadata": {
    "code_folding": [
     0
    ]
   },
   "outputs": [],
   "source": [
    "# Example of Recovering Model from .meta and .data. It uses .index and checkpoint to map variables and last checkpoint to the graph \\n\",\n",
    "graph = tf.Graph()\n",
    "    \n",
    "with graph.as_default():\n",
    "    \n",
    "    saver = tf.train.import_meta_graph(\\\"../ckpt/model.meta\\\", import_scope='')\n",
    "    feed_dict = {}\n",
    "    with tf.Session(graph=graph) as sess:\n",
    "\n",
    "\n",
    "        saver.restore(sess, tf.train.latest_checkpoint('../ckpt/') )    \\n\",\n",
    "        feed_dict[sess.graph.get_tensor_by_name('signal_in:0')] = data_train[:14,:,:8,:]\\n\",\n",
    "        for i in np.arange(1,10):  \\n\",\n",
    "    \"      feed_dict[sess.graph.get_tensor_by_name('signal_in_'+str(i)+':0')] = data_train[:14,:,8*i:8*(i+1),:]\\n\",\n",
    "    \"    feed_dict[sess.graph.get_tensor_by_name('losscrossentropy/labels:0')] = ltrain[:14]\\n\",\n",
    "    \"    feed_dict[sess.graph.get_tensor_by_name('learning_rate:0')] = 0.0001      \\n\",\n",
    "    \"  #for op in graph.get_operations():\\n\",\n",
    "    \"    #print(2*'\\\\n')\\n\",\n",
    "    \"    #print(op.name)  \\n\",\n",
    "    \"    minimize_op = sess.graph.get_operation_by_name('losscrossentropy/Adam')\\n\",\n",
    "    \"    loss = sess.graph.get_tensor_by_name('losscrossentropy/categorical_crossentropy/weighted_loss/value:0')\\n\",\n",
    "    \"    acc = sess.graph.get_tensor_by_name('reducemean/Mean:0')\\n\",\n",
    "    \"    for i in range(400):\\n\",\n",
    "    \"      lossval,_ = sess.run([loss,minimize_op], feed_dict=feed_dict)\\n\",\n",
    "    \"      accval = sess.run([acc], feed_dict=feed_dict)\\n\",\n",
    "          if lossval < 0.3:\\n\",\n",
    "            saver.save(sess, '../ckpt/model2')\\n\",\n",
    "            print('\\\\n')\\n\",\n",
    "            print('saving')\\n\",\n",
    "            print('\\\\n')\\n\",\n",
    "            \\n\",\n",
    "          print('loss ',lossval)     \\n\",\n",
    "          print('acc ', accval)\\n\",\n",
    "          print(2*'\\\\n')\\n\",\n",
    "    \n"
   ]
  }
 ],
 "metadata": {
  "kernelspec": {
   "display_name": "Python 2",
   "language": "python",
   "name": "python2"
  },
  "language_info": {
   "codemirror_mode": {
    "name": "ipython",
    "version": 2
   },
   "file_extension": ".py",
   "mimetype": "text/x-python",
   "name": "python",
   "nbconvert_exporter": "python",
   "pygments_lexer": "ipython2",
   "version": "2.7.16"
  },
  "toc": {
   "base_numbering": 1,
   "nav_menu": {},
   "number_sections": true,
   "sideBar": true,
   "skip_h1_title": true,
   "title_cell": "Table of Contents",
   "title_sidebar": "Contents",
   "toc_cell": true,
   "toc_position": {
    "height": "calc(100% - 180px)",
    "left": "10px",
    "top": "150px",
    "width": "165px"
   },
   "toc_section_display": true,
   "toc_window_display": false
  }
 },
 "nbformat": 4,
 "nbformat_minor": 2
}
