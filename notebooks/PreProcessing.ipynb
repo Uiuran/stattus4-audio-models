{
 "cells": [
  {
   "cell_type": "markdown",
   "metadata": {
    "toc": true
   },
   "source": [
    "<h1>Table of Contents<span class=\"tocSkip\"></span></h1>\n",
    "<div class=\"toc\"><ul class=\"toc-item\"></ul></div>"
   ]
  },
  {
   "cell_type": "code",
   "execution_count": 16,
   "metadata": {},
   "outputs": [],
   "source": [
    "import librosa\n",
    "from librosa.feature import melspectrogram\n",
    "import numpy as np\n",
    "import os"
   ]
  },
  {
   "cell_type": "code",
   "execution_count": 134,
   "metadata": {
    "code_folding": [
     0
    ]
   },
   "outputs": [],
   "source": [
    "# Pre-Processing Functions\n",
    "\n",
    "# Raw data to Chunk Mel-Spectogram \n",
    "# Read data from the hard-drive '/home/stattus4dpenalva/stattus4/wav_data_2018/'\n",
    "def framewise_mel(datapath, frame_size, batchsize, n_mels, fmax=8000):\n",
    "  '''\n",
    "    Input:\n",
    "    - n_mels: is the size of MEL spectrogram filter outputed as feature of the frame.\n",
    "    - frame_size: the size of the frame in the time domain. In 16khz you have 16 samples/ms.\n",
    "    - batch_size: the number of files to read from datapath.\n",
    "    \n",
    "    Returns batch_size x number_frames x n_mels_features x time_steps , label_list       \n",
    "  '''\n",
    "  spect_list = []\n",
    "  nomes = [f for f in os.listdir(datapath)]\n",
    "  label_list = []\n",
    "  batch_size = len(nomes)\n",
    "  batch_size = batch_size[0:batchsize]\n",
    "  batch_mel = []\n",
    "\n",
    "  ## Frame Parameters\n",
    "  frame_size = frame_size # 516 is 32 ms for 16khz, choosing 32ms frames like the reference paper\n",
    "\n",
    "  #framed_data = np.ndarray(shape=(batch_size, chunk, )\n",
    "  for i in range(batch_size):\n",
    "  \n",
    "    data,fs = librosa.load(datapath+nomes[i],sr=None)\n",
    "    num_frames = len(data)//(frame_size/2)\n",
    "    label_list.append(nomes[i][0:2])\n",
    "      \n",
    "    for j in range(num_frames-2): \n",
    "      chunk = data[j*(frame_size/2):j*(frame_size/2)+frame_size]\n",
    "      spect_list.append( melspectrogram(y=chunk, sr=fs, n_mels=n_mels, fmax=fmax) )\n",
    "    \n",
    "    spect_list = np.array(spect_list) # use np.concatenate(spect_list,axis=1) to output the full MEL spect \n",
    "    batch_mel.append(spect_list)\n",
    "    \n",
    "  return np.array(batch_mel),np.array(label_list)"
   ]
  }
 ],
 "metadata": {
  "kernelspec": {
   "display_name": "Python 2",
   "language": "python",
   "name": "python2"
  },
  "language_info": {
   "codemirror_mode": {
    "name": "ipython",
    "version": 2
   },
   "file_extension": ".py",
   "mimetype": "text/x-python",
   "name": "python",
   "nbconvert_exporter": "python",
   "pygments_lexer": "ipython2",
   "version": "2.7.16"
  },
  "toc": {
   "base_numbering": 1,
   "nav_menu": {},
   "number_sections": true,
   "sideBar": true,
   "skip_h1_title": true,
   "title_cell": "Table of Contents",
   "title_sidebar": "Contents",
   "toc_cell": true,
   "toc_position": {},
   "toc_section_display": true,
   "toc_window_display": false
  }
 },
 "nbformat": 4,
 "nbformat_minor": 2
}
